{
 "cells": [
  {
   "cell_type": "code",
   "execution_count": 4,
   "id": "b8362dba",
   "metadata": {},
   "outputs": [
    {
     "name": "stdout",
     "output_type": "stream",
     "text": [
      "Enter first number: 4\n",
      "Enter second number: 5\n",
      "Enter operation (+, -, *, /): +\n",
      "Result 9.0\n"
     ]
    }
   ],
   "source": [
    "def add(x, y):\n",
    "    return x + y\n",
    "\n",
    "def subtract(x, y):\n",
    "    return x - y\n",
    "\n",
    "def multiply(x, y):\n",
    "    return x * y\n",
    "\n",
    "def divide(x, y):\n",
    "    return x / y\n",
    "\n",
    "num1 = float(input(\"Enter first number: \"))\n",
    "num2 = float(input(\"Enter second number: \"))\n",
    "op = input(\"Enter operation (+, -, *, /): \")\n",
    "\n",
    "if op == '+':\n",
    "    result = add(num1, num2)\n",
    "elif op == '-':\n",
    "    result = subtract(num1, num2)\n",
    "elif op == '*':\n",
    "    result = multiply(num1, num2)\n",
    "elif op == '/':\n",
    "    result = divide(num1, num2)\n",
    "else:\n",
    "    print(\"Invalid operation\")\n",
    "\n",
    "print(\"Result\",result)"
   ]
  },
  {
   "cell_type": "code",
   "execution_count": 5,
   "id": "4216c11a",
   "metadata": {},
   "outputs": [
    {
     "name": "stdout",
     "output_type": "stream",
     "text": [
      "enter first number:7\n",
      "enter second number:9\n",
      "enter operation(+,-,*,/):/\n",
      "result 0.7777777777777778\n"
     ]
    }
   ],
   "source": [
    "def add (x,y):\n",
    "    return x + y\n",
    "\n",
    "def sub (x,y):\n",
    "    return x - y\n",
    "\n",
    "def multiply(x,y):\n",
    "    return x * y\n",
    "\n",
    "def divide (x,y):\n",
    "    return x / y \n",
    "\n",
    "num1= float(input(\"enter first number:\"))\n",
    "num2= float(input(\"enter second number:\"))\n",
    "op =input(\"enter operation(+,-,*,/):\")\n",
    "\n",
    "if op== \"+\":\n",
    "    result = add(num1 ,num2)\n",
    "elif op== \"-\":\n",
    "    result = subtract(num1,num2)\n",
    "elif op==\"*\":\n",
    "    result  = multiply(num1,num2)\n",
    "elif op == \"/\":\n",
    "    result = divide(num1,num2)\n",
    "    \n",
    "else:\n",
    "    print(\"Invalid opeartion\")\n",
    "print(\"result\",result)"
   ]
  },
  {
   "cell_type": "code",
   "execution_count": null,
   "id": "013cef49",
   "metadata": {},
   "outputs": [],
   "source": []
  }
 ],
 "metadata": {
  "kernelspec": {
   "display_name": "Python 3 (ipykernel)",
   "language": "python",
   "name": "python3"
  },
  "language_info": {
   "codemirror_mode": {
    "name": "ipython",
    "version": 3
   },
   "file_extension": ".py",
   "mimetype": "text/x-python",
   "name": "python",
   "nbconvert_exporter": "python",
   "pygments_lexer": "ipython3",
   "version": "3.9.12"
  }
 },
 "nbformat": 4,
 "nbformat_minor": 5
}
